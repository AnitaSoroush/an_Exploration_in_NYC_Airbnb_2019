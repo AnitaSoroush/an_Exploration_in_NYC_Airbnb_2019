{
  "nbformat": 4,
  "nbformat_minor": 0,
  "metadata": {
    "colab": {
      "name": "Untitled1.ipynb",
      "provenance": [],
      "toc_visible": true
    },
    "kernelspec": {
      "name": "python3",
      "display_name": "Python 3"
    },
    "language_info": {
      "name": "python"
    }
  },
  "cells": [
    {
      "cell_type": "markdown",
      "source": [
        "## Anita Soroush \n",
        "\n",
        "This notebook is a short exploration in New York City airbnb dataset"
      ],
      "metadata": {
        "id": "M7zDkF_my5Os"
      }
    },
    {
      "cell_type": "markdown",
      "source": [
        "Dataset link : https://www.kaggle.com/datasets/dgomonov/new-york-city-airbnb-open-data"
      ],
      "metadata": {
        "id": "IBN4jCGK8uct"
      }
    },
    {
      "cell_type": "code",
      "source": [
        "from google.colab import drive\n",
        "drive.mount(\"/content/gdrive\")"
      ],
      "metadata": {
        "colab": {
          "base_uri": "https://localhost:8080/"
        },
        "id": "cgi_Cc8FDjY7",
        "outputId": "33968e58-0f9d-4af4-d55b-5ef40cc706ee"
      },
      "execution_count": 10,
      "outputs": [
        {
          "output_type": "stream",
          "name": "stdout",
          "text": [
            "Mounted at /content/gdrive\n"
          ]
        }
      ]
    },
    {
      "cell_type": "code",
      "source": [
        "import pandas as pd\n",
        "data = pd.read_csv('/content/gdrive/MyDrive/AB_NYC_2019.csv')"
      ],
      "metadata": {
        "id": "b4ZRCnHeZmvP"
      },
      "execution_count": 11,
      "outputs": []
    },
    {
      "cell_type": "code",
      "source": [
        "data.shape"
      ],
      "metadata": {
        "colab": {
          "base_uri": "https://localhost:8080/"
        },
        "id": "VFksZesmAFDe",
        "outputId": "edcf4541-878c-4479-e3d3-923312b626f4"
      },
      "execution_count": 12,
      "outputs": [
        {
          "output_type": "execute_result",
          "data": {
            "text/plain": [
              "(48895, 16)"
            ]
          },
          "metadata": {},
          "execution_count": 12
        }
      ]
    },
    {
      "cell_type": "code",
      "source": [
        "data.info"
      ],
      "metadata": {
        "id": "zv6Ivm2WA15J"
      },
      "execution_count": null,
      "outputs": []
    },
    {
      "cell_type": "markdown",
      "source": [
        "# cleaning"
      ],
      "metadata": {
        "id": "90Wpl4te_MjU"
      }
    },
    {
      "cell_type": "code",
      "source": [
        "data.isnull().any()"
      ],
      "metadata": {
        "colab": {
          "base_uri": "https://localhost:8080/"
        },
        "id": "nPpki9HrAPwn",
        "outputId": "b486a2c8-249e-4939-b78b-2a9722f82d5c"
      },
      "execution_count": 14,
      "outputs": [
        {
          "output_type": "execute_result",
          "data": {
            "text/plain": [
              "id                                False\n",
              "name                               True\n",
              "host_id                           False\n",
              "host_name                          True\n",
              "neighbourhood_group               False\n",
              "neighbourhood                     False\n",
              "latitude                          False\n",
              "longitude                         False\n",
              "room_type                         False\n",
              "price                             False\n",
              "minimum_nights                    False\n",
              "number_of_reviews                 False\n",
              "last_review                        True\n",
              "reviews_per_month                  True\n",
              "calculated_host_listings_count    False\n",
              "availability_365                  False\n",
              "dtype: bool"
            ]
          },
          "metadata": {},
          "execution_count": 14
        }
      ]
    },
    {
      "cell_type": "code",
      "source": [
        "data = data.dropna()"
      ],
      "metadata": {
        "id": "lz8zGcIMAiz3"
      },
      "execution_count": 16,
      "outputs": []
    },
    {
      "cell_type": "code",
      "source": [
        "data.duplicated().any()"
      ],
      "metadata": {
        "colab": {
          "base_uri": "https://localhost:8080/"
        },
        "id": "tcw4y2EMAusA",
        "outputId": "d0fc4a63-07a4-420c-a7c8-f012796017bc"
      },
      "execution_count": 17,
      "outputs": [
        {
          "output_type": "execute_result",
          "data": {
            "text/plain": [
              "False"
            ]
          },
          "metadata": {},
          "execution_count": 17
        }
      ]
    },
    {
      "cell_type": "code",
      "source": [
        "data.shape"
      ],
      "metadata": {
        "colab": {
          "base_uri": "https://localhost:8080/"
        },
        "id": "jIXsQO6RA-8u",
        "outputId": "7c5f3e20-1ce6-4d9d-852b-96a8d980a70d"
      },
      "execution_count": 20,
      "outputs": [
        {
          "output_type": "execute_result",
          "data": {
            "text/plain": [
              "(38821, 16)"
            ]
          },
          "metadata": {},
          "execution_count": 20
        }
      ]
    },
    {
      "cell_type": "markdown",
      "source": [
        "# Exploration"
      ],
      "metadata": {
        "id": "x63Pz9hwEWDz"
      }
    },
    {
      "cell_type": "code",
      "source": [
        "def mean_reviews_in_neighborhood (neighborhood_name):\n",
        "    neigh_hosts = data[data[\"neighbourhood_group\"] == neighborhood_name]\n",
        "    neigh_hosts_mean_num_of_reviews = neigh_hosts[\"number_of_reviews\"].mean()\n",
        "    return neigh_hosts_mean_num_of_reviews"
      ],
      "metadata": {
        "id": "W9OHIFwDBXgK"
      },
      "execution_count": 24,
      "outputs": []
    },
    {
      "cell_type": "code",
      "source": [
        "# plotting a barchart of mean reviews in each neighborhood group\n",
        "\n",
        "neigh_review_df = pd.DataFrame(\n",
        "    {'neighbourhood group': ['Manhattan',\n",
        "                             'Brooklyn',\n",
        "                             'Queens',\n",
        "                             \"Staten Island\",\n",
        "                             \"Bronx\"],\n",
        "    'mean number of reviews': [mean_reviews_in_neighborhood ('Manhattan'),\n",
        "                               mean_reviews_in_neighborhood ('Brooklyn'),\n",
        "                               mean_reviews_in_neighborhood ('Queens'),\n",
        "                               mean_reviews_in_neighborhood ('Staten Island'),\n",
        "                               mean_reviews_in_neighborhood ('Bronx')]})\n",
        "\n",
        "neigh_review_df.plot.bar(x='neighbourhood group', y='mean number of reviews', rot=0, color=\"pink\")"
      ],
      "metadata": {
        "colab": {
          "base_uri": "https://localhost:8080/",
          "height": 296
        },
        "id": "whGlxUmgDPxo",
        "outputId": "d1176b04-33e0-4d23-8f13-368d5edf1ec8"
      },
      "execution_count": 27,
      "outputs": [
        {
          "output_type": "execute_result",
          "data": {
            "text/plain": [
              "<matplotlib.axes._subplots.AxesSubplot at 0x7f6819245290>"
            ]
          },
          "metadata": {},
          "execution_count": 27
        },
        {
          "output_type": "display_data",
          "data": {
            "text/plain": [
              "<Figure size 432x288 with 1 Axes>"
            ],
            "image/png": "[encoded data removed]"
          },
          "metadata": {
            "needs_background": "light"
          }
        }
      ]
    },
    {
      "cell_type": "code",
      "source": [
        "def mean_price_in_neighborhood (neighborhood_name):\n",
        "    neigh_hosts = data[data[\"neighbourhood_group\"] == neighborhood_name]\n",
        "    neigh_hosts_mean_price = neigh_hosts[\"price\"].mean()\n",
        "    return neigh_hosts_mean_price"
      ],
      "metadata": {
        "id": "ytsev1U5DbZa"
      },
      "execution_count": 26,
      "outputs": []
    },
    {
      "cell_type": "code",
      "source": [
        "# plotting a barchart of mean price in each neighborhood group\n",
        "\n",
        "neigh_price_df = pd.DataFrame(\n",
        "    {'neighbourhood group': ['Manhattan',\n",
        "                             'Brooklyn',\n",
        "                             'Queens',\n",
        "                             \"Staten Island\",\n",
        "                             \"Bronx\"],\n",
        "    'mean price': [mean_price_in_neighborhood ('Manhattan'),\n",
        "                   mean_price_in_neighborhood ('Brooklyn'),\n",
        "                   mean_price_in_neighborhood ('Queens'),\n",
        "                   mean_price_in_neighborhood ('Staten Island'),\n",
        "                   mean_price_in_neighborhood ('Bronx')]})\n",
        "\n",
        "neigh_price_df.plot.bar(x='neighbourhood group', y='mean price', rot=0, color=\"blue\")"
      ],
      "metadata": {
        "colab": {
          "base_uri": "https://localhost:8080/",
          "height": 296
        },
        "id": "fajIp7OlFVMG",
        "outputId": "454b950c-beba-4359-fece-b880a6251d9d"
      },
      "execution_count": 28,
      "outputs": [
        {
          "output_type": "execute_result",
          "data": {
            "text/plain": [
              "<matplotlib.axes._subplots.AxesSubplot at 0x7f6818de12d0>"
            ]
          },
          "metadata": {},
          "execution_count": 28
        },
        {
          "output_type": "display_data",
          "data": {
            "text/plain": [
              "<Figure size 432x288 with 1 Axes>"
            ],
            "image/png": "[encoded data removed]"
          },
          "metadata": {
            "needs_background": "light"
          }
        }
      ]
    },
    {
      "cell_type": "code",
      "source": [
        "# mean num of reviews vs mean price in each neighborhood group\n",
        "\n",
        "price_std = data[\"price\"].std()\n",
        "num_of_reviews_std = data[\"number_of_reviews\"].std()\n",
        "\n",
        "mean_price = [mean_price_in_neighborhood ('Manhattan')/price_std,\n",
        "              mean_price_in_neighborhood ('Brooklyn')/price_std,\n",
        "              mean_price_in_neighborhood ('Queens')/price_std,\n",
        "              mean_price_in_neighborhood ('Staten Island')/price_std,\n",
        "              mean_price_in_neighborhood ('Bronx')/price_std]\n",
        "mean_num_of_reviews = [mean_reviews_in_neighborhood ('Manhattan')/num_of_reviews_std,\n",
        "                       mean_reviews_in_neighborhood ('Brooklyn')/num_of_reviews_std,\n",
        "                       mean_reviews_in_neighborhood ('Queens')/num_of_reviews_std,\n",
        "                       mean_reviews_in_neighborhood ('Staten Island')/num_of_reviews_std,\n",
        "                       mean_reviews_in_neighborhood ('Bronx')/num_of_reviews_std]\n",
        "\n",
        "index = ['Manhattan', 'Brooklyn', 'Queens', 'Staten Island', 'Bronx']\n",
        "data_frame = pd.DataFrame({'mean price': mean_price,\n",
        "                            'mean number of reviews': mean_num_of_reviews}, index=index)\n",
        "data_frame.plot.bar(rot=0, color={'mean price': \"blue\", 'mean number of reviews': \"pink\"})"
      ],
      "metadata": {
        "colab": {
          "base_uri": "https://localhost:8080/",
          "height": 282
        },
        "id": "vF2v8XYhGLaC",
        "outputId": "4ce98464-454d-41a2-90d2-6a8f3eb6edca"
      },
      "execution_count": 29,
      "outputs": [
        {
          "output_type": "execute_result",
          "data": {
            "text/plain": [
              "<matplotlib.axes._subplots.AxesSubplot at 0x7f68193cb7d0>"
            ]
          },
          "metadata": {},
          "execution_count": 29
        },
        {
          "output_type": "display_data",
          "data": {
            "text/plain": [
              "<Figure size 432x288 with 1 Axes>"
            ],
            "image/png": "[encoded data removed]"
          },
          "metadata": {
            "needs_background": "light"
          }
        }
      ]
    },
    {
      "cell_type": "markdown",
      "source": [
        "Statistical Test:"
      ],
      "metadata": {
        "id": "qQOMYVE_Hbm5"
      }
    },
    {
      "cell_type": "code",
      "source": [
        "# correlation of price and review (all but Bronx)\n",
        "print(\"correlation of price and review:  \", data[\"price\"].corr(data[\"number_of_reviews\"]))"
      ],
      "metadata": {
        "colab": {
          "base_uri": "https://localhost:8080/"
        },
        "id": "P6AJ67tjHasF",
        "outputId": "3354b53d-2ad7-4c25-9d10-faf81f5d9e3a"
      },
      "execution_count": 30,
      "outputs": [
        {
          "output_type": "stream",
          "name": "stdout",
          "text": [
            "correlation of price and review:   -0.035924415903374675\n"
          ]
        }
      ]
    },
    {
      "cell_type": "code",
      "source": [
        "def room_type_preference():\n",
        "    private_rooms = data[data[\"room_type\"] == \"Private room\"]\n",
        "    mean_views_of_private_rooms = private_rooms[\"number_of_reviews\"].mean()\n",
        "    private_room_mean_price = private_rooms[\"price\"].mean()\n",
        "    print(\"mean views of private rooms: \", mean_views_of_private_rooms,\n",
        "          \"\\nmean price of a private room: \", private_room_mean_price)\n",
        "\n",
        "    entire_homes = data[data[\"room_type\"] == \"Entire home/apt\"]\n",
        "    mean_views_of_entire_homes = entire_homes[\"number_of_reviews\"].mean()\n",
        "    entire_home_mean_price = entire_homes[\"price\"].mean()\n",
        "    print(\"\\nmean views of entire homes: \", mean_views_of_entire_homes,\n",
        "          \"\\nmean price of an entire home: \", entire_home_mean_price)"
      ],
      "metadata": {
        "id": "foqTbka1IH0c"
      },
      "execution_count": 32,
      "outputs": []
    },
    {
      "cell_type": "code",
      "source": [
        "room_type_preference()"
      ],
      "metadata": {
        "colab": {
          "base_uri": "https://localhost:8080/"
        },
        "id": "ktqrxxJlIS2K",
        "outputId": "51f7e867-c56a-48f8-a022-0baaca850fe9"
      },
      "execution_count": 33,
      "outputs": [
        {
          "output_type": "stream",
          "name": "stdout",
          "text": [
            "mean views of private rooms:  30.472697405687097 \n",
            "mean price of a private room:  83.98527245949926\n",
            "\n",
            "mean views of entire homes:  28.534816199990157 \n",
            "mean price of an entire home:  196.3159293341863\n"
          ]
        }
      ]
    }
  ]
}